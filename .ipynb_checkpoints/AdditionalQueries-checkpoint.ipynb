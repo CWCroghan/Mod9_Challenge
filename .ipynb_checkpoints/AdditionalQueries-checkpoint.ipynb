{
 "cells": [
  {
   "cell_type": "code",
   "execution_count": 1,
   "id": "1176a53c",
   "metadata": {},
   "outputs": [],
   "source": [
    "# Dependencies\n",
    "import numpy as np\n",
    "import pandas as pd\n",
    "\n",
    "# Python SQL toolkit and Object Relational Mapper\n",
    "import sqlalchemy\n",
    "from sqlalchemy.ext.automap import automap_base\n",
    "from sqlalchemy.orm import Session\n",
    "from sqlalchemy import create_engine, func"
   ]
  },
  {
   "cell_type": "code",
   "execution_count": 2,
   "id": "8865a6f3",
   "metadata": {},
   "outputs": [],
   "source": [
    "engine = create_engine(\"sqlite:///hawaii.sqlite\")\n",
    "\n",
    "# reflect an existing database into a new model\n",
    "Base = automap_base()\n",
    "# reflect the tables\n",
    "Base.prepare(engine, reflect=True)\n",
    "\n",
    "# Save references to each table\n",
    "Measurement = Base.classes.measurement\n",
    "Station = Base.classes.station"
   ]
  },
  {
   "cell_type": "code",
   "execution_count": 3,
   "id": "4d80f7ec",
   "metadata": {},
   "outputs": [],
   "source": [
    "# Create our session (link) from Python to the DB\n",
    "session = Session(engine)\n"
   ]
  },
  {
   "cell_type": "code",
   "execution_count": 4,
   "id": "c75a217d",
   "metadata": {},
   "outputs": [],
   "source": [
    "from sqlalchemy import inspect\n",
    "\n",
    "from datetime import datetime\n",
    "\n",
    "# Import the sqlalchemy extract function.\n",
    "from sqlalchemy import extract\n"
   ]
  },
  {
   "cell_type": "code",
   "execution_count": 5,
   "id": "114e05cd",
   "metadata": {},
   "outputs": [
    {
     "data": {
      "text/plain": [
       "['measurement', 'station']"
      ]
     },
     "execution_count": 5,
     "metadata": {},
     "output_type": "execute_result"
    }
   ],
   "source": [
    "inspector = inspect(engine)\n",
    "inspector.get_table_names() "
   ]
  },
  {
   "cell_type": "code",
   "execution_count": 7,
   "id": "d978d3c7",
   "metadata": {},
   "outputs": [
    {
     "name": "stdout",
     "output_type": "stream",
     "text": [
      "id\n",
      "station\n",
      "name\n",
      "latitude\n",
      "longitude\n",
      "elevation\n"
     ]
    }
   ],
   "source": [
    "column_names = inspector.get_columns('station')\n",
    "for column_name in column_names:\n",
    "    print(column_name[\"name\"])"
   ]
  },
  {
   "cell_type": "code",
   "execution_count": 31,
   "id": "fccaa6ea",
   "metadata": {},
   "outputs": [
    {
     "name": "stdout",
     "output_type": "stream",
     "text": [
      "id\n",
      "station\n",
      "date\n",
      "prcp\n",
      "tobs\n"
     ]
    }
   ],
   "source": [
    "column_names = inspector.get_columns('measurement')\n",
    "for column_name in column_names:\n",
    "    print(column_name[\"name\"])"
   ]
  },
  {
   "cell_type": "code",
   "execution_count": 11,
   "id": "6cabb546",
   "metadata": {},
   "outputs": [
    {
     "data": {
      "text/plain": [
       "[(9,)]"
      ]
     },
     "execution_count": 11,
     "metadata": {},
     "output_type": "execute_result"
    }
   ],
   "source": [
    "session.query(func.count(Station.station)).all()"
   ]
  },
  {
   "cell_type": "code",
   "execution_count": 13,
   "id": "42005ad0",
   "metadata": {},
   "outputs": [
    {
     "name": "stdout",
     "output_type": "stream",
     "text": [
      "       tobs\n",
      "0      65.0\n",
      "1      63.0\n",
      "2      74.0\n",
      "3      76.0\n",
      "4      73.0\n",
      "...     ...\n",
      "19545  71.0\n",
      "19546  78.0\n",
      "19547  76.0\n",
      "19548  76.0\n",
      "19549  76.0\n",
      "\n",
      "[19550 rows x 1 columns]\n"
     ]
    },
    {
     "data": {
      "image/png": "[encoded data removed]",
      "text/plain": [
       "<Figure size 640x480 with 1 Axes>"
      ]
     },
     "metadata": {},
     "output_type": "display_data"
    }
   ],
   "source": [
    "%matplotlib inline\n",
    "from matplotlib import style\n",
    "style.use('fivethirtyeight')\n",
    "import matplotlib.pyplot as plt\n",
    "\n",
    "results = session.query(Measurement.tobs).all()\n",
    "df = pd.DataFrame(results, columns = ['tobs'])\n",
    "\n",
    "print(df)\n",
    "\n",
    "df.plot.hist(bins=12)\n",
    "plt.tight_layout()"
   ]
  },
  {
   "cell_type": "code",
   "execution_count": 15,
   "id": "48981858",
   "metadata": {},
   "outputs": [
    {
     "data": {
      "text/plain": [
       "[(53.0, 87.0, 73.09795396419437)]"
      ]
     },
     "execution_count": 15,
     "metadata": {},
     "output_type": "execute_result"
    }
   ],
   "source": [
    "session.query(func.min(Measurement.tobs), func.max(Measurement.tobs), func.avg(Measurement.tobs)).all()"
   ]
  },
  {
   "cell_type": "code",
   "execution_count": 30,
   "id": "caf65fca",
   "metadata": {},
   "outputs": [
    {
     "data": {
      "text/plain": [
       "[(7,)]"
      ]
     },
     "execution_count": 30,
     "metadata": {},
     "output_type": "execute_result"
    }
   ],
   "source": [
    "session.query(func.count(Measurement.tobs)).\\\n",
    "    filter(Measurement.date =='2010-01-01').all()"
   ]
  },
  {
   "cell_type": "code",
   "execution_count": 29,
   "id": "694efaaa",
   "metadata": {},
   "outputs": [
    {
     "data": {
      "text/plain": [
       "[('2010-01-01', '2017-08-23')]"
      ]
     },
     "execution_count": 29,
     "metadata": {},
     "output_type": "execute_result"
    }
   ],
   "source": [
    "session.query(func.min(Measurement.date), func.max(Measurement.date)).all()"
   ]
  },
  {
   "cell_type": "code",
   "execution_count": 20,
   "id": "f9ed0ce8",
   "metadata": {},
   "outputs": [],
   "source": [
    "june = session.query(Measurement.date,func.min(Measurement.tobs), func.max(Measurement.tobs), func.avg(Measurement.tobs)).\\\n",
    "    filter(extract('month',Measurement.date)==6).\\\n",
    "    group_by(Measurement.date).order_by(func.count(Measurement.date).desc()).all()\n"
   ]
  },
  {
   "cell_type": "code",
   "execution_count": 22,
   "id": "5c3882df",
   "metadata": {},
   "outputs": [
    {
     "name": "stdout",
     "output_type": "stream",
     "text": [
      "           date   min   max        ave\n",
      "0    2012-06-29  71.0  79.0  73.888889\n",
      "1    2012-06-26  69.0  75.0  71.777778\n",
      "2    2012-06-21  71.0  78.0  74.555556\n",
      "3    2011-06-21  68.0  76.0  72.555556\n",
      "4    2011-06-15  73.0  77.0  75.111111\n",
      "..          ...   ...   ...        ...\n",
      "235  2015-06-07  72.0  78.0  76.000000\n",
      "236  2015-06-02  67.0  78.0  72.600000\n",
      "237  2014-06-28  71.0  79.0  75.800000\n",
      "238  2016-06-04  65.0  75.0  70.500000\n",
      "239  2015-06-28  72.0  80.0  76.500000\n",
      "\n",
      "[240 rows x 4 columns]\n"
     ]
    }
   ],
   "source": [
    "df = pd.DataFrame(june, columns = ['date','min','max','ave'])\n",
    "\n",
    "print(df)\n",
    "\n"
   ]
  },
  {
   "cell_type": "code",
   "execution_count": 24,
   "id": "fd9a8cbc",
   "metadata": {},
   "outputs": [
    {
     "data": {
      "image/png": "[encoded data removed]",
      "text/plain": [
       "<Figure size 640x480 with 1 Axes>"
      ]
     },
     "metadata": {},
     "output_type": "display_data"
    }
   ],
   "source": [
    "\n",
    "df.plot.hist(bins=12)\n",
    "plt.tight_layout()"
   ]
  },
  {
   "cell_type": "code",
   "execution_count": 25,
   "id": "76aa39a2",
   "metadata": {},
   "outputs": [],
   "source": [
    "dec = session.query(Measurement.date,func.min(Measurement.tobs), func.max(Measurement.tobs), func.avg(Measurement.tobs)).\\\n",
    "    filter(extract('month',Measurement.date)==12).\\\n",
    "    group_by(Measurement.date).order_by(func.count(Measurement.date).desc()).all()\n"
   ]
  },
  {
   "cell_type": "code",
   "execution_count": 26,
   "id": "5644e1ec",
   "metadata": {},
   "outputs": [
    {
     "name": "stdout",
     "output_type": "stream",
     "text": [
      "           date   min   max        ave\n",
      "0    2013-12-23  64.0  74.0  70.666667\n",
      "1    2013-12-20  69.0  79.0  72.444444\n",
      "2    2013-12-19  68.0  72.0  70.222222\n",
      "3    2013-12-17  63.0  74.0  69.000000\n",
      "4    2012-12-06  64.0  75.0  70.333333\n",
      "..          ...   ...   ...        ...\n",
      "212  2012-12-25  71.0  74.0  72.800000\n",
      "213  2010-12-25  69.0  74.0  71.400000\n",
      "214  2015-12-30  70.0  74.0  72.250000\n",
      "215  2015-12-21  75.0  78.0  75.750000\n",
      "216  2015-12-06  71.0  75.0  72.750000\n",
      "\n",
      "[217 rows x 4 columns]\n"
     ]
    }
   ],
   "source": [
    "df = pd.DataFrame(dec, columns = ['date','min','max','ave'])\n",
    "\n",
    "print(df)\n"
   ]
  },
  {
   "cell_type": "code",
   "execution_count": 27,
   "id": "58821fb9",
   "metadata": {},
   "outputs": [
    {
     "data": {
      "image/png": "[encoded data removed]",
      "text/plain": [
       "<Figure size 640x480 with 1 Axes>"
      ]
     },
     "metadata": {},
     "output_type": "display_data"
    }
   ],
   "source": [
    "\n",
    "df.plot.hist(bins=12)\n",
    "plt.tight_layout()"
   ]
  },
  {
   "cell_type": "code",
   "execution_count": null,
   "id": "c43a5e33",
   "metadata": {},
   "outputs": [],
   "source": []
  }
 ],
 "metadata": {
  "kernelspec": {
   "display_name": "PythonData",
   "language": "python",
   "name": "pythondata"
  },
  "language_info": {
   "codemirror_mode": {
    "name": "ipython",
    "version": 3
   },
   "file_extension": ".py",
   "mimetype": "text/x-python",
   "name": "python",
   "nbconvert_exporter": "python",
   "pygments_lexer": "ipython3",
   "version": "3.7.15"
  }
 },
 "nbformat": 4,
 "nbformat_minor": 5
}
